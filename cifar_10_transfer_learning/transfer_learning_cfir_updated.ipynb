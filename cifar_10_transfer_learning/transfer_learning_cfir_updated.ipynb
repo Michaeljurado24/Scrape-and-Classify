{
 "cells": [
  {
   "cell_type": "code",
   "execution_count": 37,
   "id": "2584aa58",
   "metadata": {},
   "outputs": [],
   "source": [
    "#Followed the following github link \n",
    "# https://github.com/codebasics/deep-learning-keras-tf-tutorial/blob/master/18_transfer_learning/cnn_transfer_learning.ipynb\n",
    "# downgrad tensorflow-estimator to 2.3.0 which is in the dependency lis of tensorflow_hub\n",
    "# tensorflow version 2.3.1 was used\n",
    "\n",
    "# Download the dataset from following link\n",
    "\n",
    "# https://gtvault-my.sharepoint.com/:u:/g/personal/madnaan3_gatech_edu/EUmIVdH7SL9FsYAe-ZFY20YBPMooeOEI0ZlXpOgDQgKAsw?e=5sgSpu\n",
    "\n",
    "# extract the flower_photos folder in the same folder as transfer_learning_cfir_updated.ipynb \n",
    "\n",
    "\n",
    "import numpy as np\n",
    "import cv2\n",
    "import PIL\n",
    "import PIL.Image as Image\n",
    "import os\n",
    "import random\n",
    "import matplotlib.pylab as plt\n",
    "\n",
    "import tensorflow as tf\n",
    "from numpy import asarray\n",
    "import pickle\n",
    "import pathlib\n",
    "from tensorflow import keras\n",
    "from tensorflow.keras import layers\n",
    "from tensorflow.keras.models import Sequential\n",
    "from tensorflow.keras import datasets, layers, models\n",
    "import tensorflow_hub as hub"
   ]
  },
  {
   "cell_type": "markdown",
   "id": "6fc884da",
   "metadata": {},
   "source": [
    "# Load Pretrained model"
   ]
  },
  {
   "cell_type": "code",
   "execution_count": 38,
   "id": "cdb95eb6",
   "metadata": {},
   "outputs": [],
   "source": [
    "IMAGE_SHAPE = (224, 224)\n",
    "\n",
    "classifier = tf.keras.Sequential([\n",
    "    hub.KerasLayer(\"https://tfhub.dev/google/tf2-preview/mobilenet_v2/classification/4\", input_shape=IMAGE_SHAPE+(3,))\n",
    "])"
   ]
  },
  {
   "cell_type": "code",
   "execution_count": null,
   "id": "2dbf9098",
   "metadata": {},
   "outputs": [],
   "source": [
    "gold_fish = Image.open(\"goldfish.jpg\").resize(IMAGE_SHAPE)\n",
    "gold_fish"
   ]
  },
  {
   "cell_type": "code",
   "execution_count": null,
   "id": "46801428",
   "metadata": {},
   "outputs": [],
   "source": [
    "\n",
    "gold_fish = np.array(gold_fish)/255.0\n",
    "gold_fish.shape\n",
    "gold_fish[np.newaxis, ...]\n",
    "result = classifier.predict(gold_fish[np.newaxis, ...])\n",
    "result.shape"
   ]
  },
  {
   "cell_type": "code",
   "execution_count": null,
   "id": "22011753",
   "metadata": {},
   "outputs": [],
   "source": [
    "predicted_label_index = np.argmax(result)\n",
    "predicted_label_index"
   ]
  },
  {
   "cell_type": "code",
   "execution_count": null,
   "id": "93f16aa1",
   "metadata": {},
   "outputs": [],
   "source": [
    "tf.keras.utils.get_file('ImageNetLabels.txt','https://storage.googleapis.com/download.tensorflow.org/data/ImageNetLabels.txt')\n",
    "image_labels = []\n",
    "with open(\"ImageNetLabels.txt\", \"r\") as f:\n",
    "    image_labels = f.read().splitlines()\n",
    "image_labels[:5]"
   ]
  },
  {
   "cell_type": "code",
   "execution_count": null,
   "id": "e6bf0433",
   "metadata": {},
   "outputs": [],
   "source": [
    "image_labels[predicted_label_index]"
   ]
  },
  {
   "cell_type": "markdown",
   "id": "89e6cb55",
   "metadata": {},
   "source": [
    "# Load dataset from local folder"
   ]
  },
  {
   "cell_type": "code",
   "execution_count": 49,
   "id": "e620a838",
   "metadata": {},
   "outputs": [
    {
     "name": "stdout",
     "output_type": "stream",
     "text": [
      "1024\n"
     ]
    }
   ],
   "source": [
    "labels=['roses', 'daisy','dandelion','sunflowers', 'tulips']\n",
    "types_of_data=len(labels)\n",
    "data_dir =pathlib.Path('./flower_photos/train')\n",
    "image_count = len(list(data_dir.glob('*/*.jpg')))\n",
    "print(image_count)\n"
   ]
  },
  {
   "cell_type": "code",
   "execution_count": 50,
   "id": "6cb22ca1",
   "metadata": {},
   "outputs": [
    {
     "name": "stdout",
     "output_type": "stream",
     "text": [
      "(1025, 224, 224, 3)\n",
      "(1025, 1)\n"
     ]
    }
   ],
   "source": [
    "train_data_x=np.zeros((1,IMAGE_SHAPE[0],IMAGE_SHAPE[1],3))\n",
    "train_data_y=np.zeros((1,1))\n",
    "\n",
    "for j in range(types_of_data):\n",
    "    data = list(data_dir.glob(labels[j]+'/*'))\n",
    "    yi=np.full((len(data),1),j)\n",
    "\n",
    "    for i in range(len(data)):\n",
    "        resized_img = cv2.resize(asarray(PIL.Image.open(str(data[i]))),(IMAGE_SHAPE[0],IMAGE_SHAPE[1]))\n",
    "        resized_img=np.reshape(resized_img,(1,IMAGE_SHAPE[0],IMAGE_SHAPE[1],3))\n",
    "        train_data_x=np.append(train_data_x, resized_img, axis=0)\n",
    "\n",
    "    train_data_y=np.append(train_data_y, yi, axis=0)\n",
    "    \n",
    "    \n"
   ]
  },
  {
   "cell_type": "code",
   "execution_count": 69,
   "id": "872193cd",
   "metadata": {},
   "outputs": [
    {
     "name": "stdout",
     "output_type": "stream",
     "text": [
      "(1024, 224, 224, 3)\n",
      "(1024, 1)\n"
     ]
    }
   ],
   "source": [
    "train_x=np.delete(train_data_x,0,0)\n",
    "train_y=np.delete(train_data_y,0,0)\n",
    "sorting= np.arange(len(train_y)-1)\n",
    "np.random.shuffle(sorting)\n",
    "train_x_final=np.zeros((len(train_y),IMAGE_SHAPE[0],IMAGE_SHAPE[1],3))\n",
    "train_y_final=np.zeros((len(train_y),1))\n",
    "\n",
    "for i in range(len(train_y)-1):\n",
    "    train_x_final[i]=train_x[sorting[i]]\n",
    "    train_y_final[i]=train_y[sorting[i]]\n",
    "    \n",
    "print(train_x_final.shape)\n",
    "print(train_y_final.shape)"
   ]
  },
  {
   "cell_type": "code",
   "execution_count": 73,
   "id": "68b0ce2f",
   "metadata": {},
   "outputs": [
    {
     "name": "stdout",
     "output_type": "stream",
     "text": [
      "200\n"
     ]
    }
   ],
   "source": [
    "data_dir =pathlib.Path('./flower_photos/test')\n",
    "image_count = len(list(data_dir.glob('*/*.jpg')))\n",
    "print(image_count)"
   ]
  },
  {
   "cell_type": "code",
   "execution_count": 74,
   "id": "fdd5efb9",
   "metadata": {},
   "outputs": [],
   "source": [
    "test_data_x=np.zeros((1,IMAGE_SHAPE[0],IMAGE_SHAPE[1],3))\n",
    "test_data_y=np.zeros((1,1))\n",
    "\n",
    "for j in range(types_of_data):\n",
    "    data = list(data_dir.glob(labels[j]+'/*'))\n",
    "    yi=np.full((len(data),1),j)\n",
    "\n",
    "    for i in range(len(data)):\n",
    "        resized_img = cv2.resize(asarray(PIL.Image.open(str(data[i]))),(IMAGE_SHAPE[0],IMAGE_SHAPE[1]))\n",
    "        resized_img=np.reshape(resized_img,(1,IMAGE_SHAPE[0],IMAGE_SHAPE[1],3))\n",
    "        test_data_x=np.append(test_data_x, resized_img, axis=0)\n",
    "\n",
    "    test_data_y=np.append(test_data_y, yi, axis=0)\n",
    "    "
   ]
  },
  {
   "cell_type": "code",
   "execution_count": 75,
   "id": "3f99175d",
   "metadata": {},
   "outputs": [
    {
     "name": "stdout",
     "output_type": "stream",
     "text": [
      "(200, 224, 224, 3)\n",
      "(200, 1)\n"
     ]
    }
   ],
   "source": [
    "test_x=np.delete(test_data_x,0,0)\n",
    "test_y=np.delete(test_data_y,0,0)\n",
    "sorting= np.arange(len(test_y)-1)\n",
    "np.random.shuffle(sorting)\n",
    "test_x_final=np.zeros((len(test_y),IMAGE_SHAPE[0],IMAGE_SHAPE[1],3))\n",
    "test_y_final=np.zeros((len(test_y),1))\n",
    "\n",
    "for i in range(len(test_y)-1):\n",
    "    test_x_final[i]=test_x[sorting[i]]\n",
    "    test_y_final[i]=test_y[sorting[i]]\n",
    "    \n",
    "print(test_x_final.shape)\n",
    "print(test_y_final.shape)"
   ]
  },
  {
   "cell_type": "code",
   "execution_count": 77,
   "id": "f45a5d85",
   "metadata": {},
   "outputs": [],
   "source": [
    "Xtrain1 = np.array(train_x_final).astype('float16',casting='same_kind')\n",
    "ytrain1 = np.array(train_y_final).astype('float16',casting='same_kind')\n",
    "Xtest1 = np.array(test_x_final).astype('float16',casting='same_kind')\n",
    "ytest1 = np.array(test_y_final).astype('float16',casting='same_kind')"
   ]
  },
  {
   "cell_type": "code",
   "execution_count": 78,
   "id": "6c6ada2d",
   "metadata": {},
   "outputs": [],
   "source": [
    "X_train_scaled = Xtrain1 / 255\n",
    "X_test_scaled = Xtest1 / 255"
   ]
  },
  {
   "cell_type": "code",
   "execution_count": 79,
   "id": "39156016",
   "metadata": {},
   "outputs": [],
   "source": [
    "feature_extractor_model = \"https://tfhub.dev/google/tf2-preview/mobilenet_v2/feature_vector/4\"\n",
    "\n",
    "pretrained_model_without_top_layer = hub.KerasLayer(\n",
    "    feature_extractor_model, input_shape=(224, 224, 3), trainable=False)"
   ]
  },
  {
   "cell_type": "code",
   "execution_count": 80,
   "id": "dadfd5e9",
   "metadata": {},
   "outputs": [
    {
     "name": "stdout",
     "output_type": "stream",
     "text": [
      "Model: \"sequential_2\"\n",
      "_________________________________________________________________\n",
      "Layer (type)                 Output Shape              Param #   \n",
      "=================================================================\n",
      "keras_layer_2 (KerasLayer)   (None, 1280)              2257984   \n",
      "_________________________________________________________________\n",
      "dense (Dense)                (None, 5)                 6405      \n",
      "=================================================================\n",
      "Total params: 2,264,389\n",
      "Trainable params: 6,405\n",
      "Non-trainable params: 2,257,984\n",
      "_________________________________________________________________\n"
     ]
    }
   ],
   "source": [
    "num_of_class = types_of_data\n",
    "\n",
    "model = tf.keras.Sequential([\n",
    "  pretrained_model_without_top_layer,\n",
    "  tf.keras.layers.Dense(num_of_class)\n",
    "])\n",
    "\n",
    "model.summary()"
   ]
  },
  {
   "cell_type": "code",
   "execution_count": 81,
   "id": "79401776",
   "metadata": {},
   "outputs": [
    {
     "name": "stdout",
     "output_type": "stream",
     "text": [
      "Epoch 1/5\n",
      "32/32 [==============================] - 7s 217ms/step - loss: 1.0807 - acc: 0.5811\n",
      "Epoch 2/5\n",
      "32/32 [==============================] - 7s 225ms/step - loss: 0.4877 - acc: 0.8457\n",
      "Epoch 3/5\n",
      "32/32 [==============================] - 7s 232ms/step - loss: 0.3445 - acc: 0.9033\n",
      "Epoch 4/5\n",
      "32/32 [==============================] - 7s 228ms/step - loss: 0.2691 - acc: 0.9248\n",
      "Epoch 5/5\n",
      "32/32 [==============================] - 7s 225ms/step - loss: 0.2220 - acc: 0.9482\n"
     ]
    },
    {
     "data": {
      "text/plain": [
       "<tensorflow.python.keras.callbacks.History at 0x1b701a27550>"
      ]
     },
     "execution_count": 81,
     "metadata": {},
     "output_type": "execute_result"
    }
   ],
   "source": [
    "model.compile(\n",
    "  optimizer=\"adam\",\n",
    "  loss=tf.keras.losses.SparseCategoricalCrossentropy(from_logits=True),\n",
    "  metrics=['acc'])\n",
    "\n",
    "model.fit(X_train_scaled, ytrain1, epochs=5)"
   ]
  },
  {
   "cell_type": "code",
   "execution_count": 82,
   "id": "cf32ba03",
   "metadata": {},
   "outputs": [
    {
     "name": "stdout",
     "output_type": "stream",
     "text": [
      "7/7 [==============================] - 1s 175ms/step - loss: 0.5978 - acc: 0.8200\n"
     ]
    },
    {
     "data": {
      "text/plain": [
       "[0.5978355407714844, 0.8199999928474426]"
      ]
     },
     "execution_count": 82,
     "metadata": {},
     "output_type": "execute_result"
    }
   ],
   "source": [
    "model.evaluate(X_test_scaled,ytest1)"
   ]
  },
  {
   "cell_type": "code",
   "execution_count": 83,
   "id": "5b2af265",
   "metadata": {},
   "outputs": [
    {
     "data": {
      "image/png": "[encoded data removed]",
      "text/plain": [
       "<PIL.Image.Image image mode=RGB size=224x224 at 0x1B77628D460>"
      ]
     },
     "execution_count": 83,
     "metadata": {},
     "output_type": "execute_result"
    }
   ],
   "source": [
    "rs = Image.open(\"rose.jpg\").resize(IMAGE_SHAPE)\n",
    "rs"
   ]
  },
  {
   "cell_type": "code",
   "execution_count": 84,
   "id": "57d1796b",
   "metadata": {},
   "outputs": [
    {
     "data": {
      "text/plain": [
       "(1, 5)"
      ]
     },
     "execution_count": 84,
     "metadata": {},
     "output_type": "execute_result"
    }
   ],
   "source": [
    "rs = np.array(rs)/255.0\n",
    "rs.shape\n",
    "rs[np.newaxis, ...]\n",
    "result = model.predict(rs[np.newaxis, ...])\n",
    "result.shape"
   ]
  },
  {
   "cell_type": "code",
   "execution_count": 85,
   "id": "c9afd12d",
   "metadata": {},
   "outputs": [
    {
     "data": {
      "text/plain": [
       "'roses'"
      ]
     },
     "execution_count": 85,
     "metadata": {},
     "output_type": "execute_result"
    }
   ],
   "source": [
    "predicted_label_index = np.argmax(result)\n",
    "labels[predicted_label_index]"
   ]
  },
  {
   "cell_type": "code",
   "execution_count": null,
   "id": "006ce1e0",
   "metadata": {},
   "outputs": [],
   "source": []
  },
  {
   "cell_type": "markdown",
   "id": "969d5942",
   "metadata": {},
   "source": [
    "# Load Cifar10 dataset"
   ]
  },
  {
   "cell_type": "code",
   "execution_count": 41,
   "id": "1a0e2ee5",
   "metadata": {},
   "outputs": [
    {
     "name": "stdout",
     "output_type": "stream",
     "text": [
      "Downloading data from https://www.cs.toronto.edu/~kriz/cifar-10-python.tar.gz\n",
      "170500096/170498071 [==============================] - 23s 0us/step\n"
     ]
    },
    {
     "data": {
      "text/plain": [
       "(50000, 32, 32, 3)"
      ]
     },
     "execution_count": 41,
     "metadata": {},
     "output_type": "execute_result"
    }
   ],
   "source": [
    "(X_train, y_train), (X_test,y_test) = datasets.cifar10.load_data()\n",
    "X_train.shape"
   ]
  },
  {
   "cell_type": "code",
   "execution_count": 42,
   "id": "5bbf7c27",
   "metadata": {},
   "outputs": [
    {
     "data": {
      "text/plain": [
       "10000"
      ]
     },
     "execution_count": 42,
     "metadata": {},
     "output_type": "execute_result"
    }
   ],
   "source": [
    "len(X_test)"
   ]
  },
  {
   "cell_type": "code",
   "execution_count": 43,
   "id": "5ec765b1",
   "metadata": {},
   "outputs": [
    {
     "data": {
      "text/plain": [
       "(50000, 1)"
      ]
     },
     "execution_count": 43,
     "metadata": {},
     "output_type": "execute_result"
    }
   ],
   "source": [
    "y_train.shape"
   ]
  },
  {
   "cell_type": "code",
   "execution_count": null,
   "id": "73510dc1",
   "metadata": {},
   "outputs": [],
   "source": [
    "y_train[:5]"
   ]
  },
  {
   "cell_type": "code",
   "execution_count": null,
   "id": "90e52341",
   "metadata": {},
   "outputs": [],
   "source": [
    "y_train = y_train.reshape(-1,)\n",
    "y_train[:5]"
   ]
  },
  {
   "cell_type": "code",
   "execution_count": null,
   "id": "1867c0ab",
   "metadata": {},
   "outputs": [],
   "source": [
    "y_test = y_test.reshape(-1,)"
   ]
  },
  {
   "cell_type": "code",
   "execution_count": null,
   "id": "da1948b6",
   "metadata": {},
   "outputs": [],
   "source": [
    "classes = [\"airplane\",\"automobile\",\"bird\",\"cat\",\"deer\",\"dog\",\"frog\",\"horse\",\"ship\",\"truck\"]"
   ]
  },
  {
   "cell_type": "code",
   "execution_count": null,
   "id": "20ce25f2",
   "metadata": {},
   "outputs": [],
   "source": [
    "def plot_sample(X, y, index):\n",
    "    plt.figure(figsize = (15,2))\n",
    "    plt.imshow(X[index])\n",
    "    plt.xlabel(classes[y[index]])"
   ]
  },
  {
   "cell_type": "code",
   "execution_count": null,
   "id": "09c39de5",
   "metadata": {},
   "outputs": [],
   "source": [
    "plot_sample(X_train, y_train, 0)"
   ]
  },
  {
   "cell_type": "code",
   "execution_count": null,
   "id": "181aa5f6",
   "metadata": {},
   "outputs": [],
   "source": [
    "plot_sample(X_train, y_train, 1)"
   ]
  },
  {
   "cell_type": "markdown",
   "id": "cacf78c7",
   "metadata": {},
   "source": [
    "# Crop Cifar10 dataset to 10000 train image and 1000 test image"
   ]
  },
  {
   "cell_type": "code",
   "execution_count": null,
   "id": "98b8b32c",
   "metadata": {},
   "outputs": [],
   "source": [
    "X_train=X_train[:10000]\n",
    "y_train=y_train[:10000]\n",
    "X_test=X_test[:1000]\n",
    "y_test=y_test[:1000]"
   ]
  },
  {
   "cell_type": "code",
   "execution_count": null,
   "id": "5d475578",
   "metadata": {},
   "outputs": [],
   "source": [
    "Xtrain, ytrain = [], []\n",
    "\n",
    "for i in range(len(X_train)):\n",
    "    img = X_train[i]\n",
    "    resized_img = cv2.resize(img,(224,224))\n",
    "    Xtrain.append(resized_img)\n",
    "    ytrain.append(y_train[i])"
   ]
  },
  {
   "cell_type": "code",
   "execution_count": null,
   "id": "21dd6437",
   "metadata": {},
   "outputs": [],
   "source": [
    "Xtest, ytest = [], []\n",
    "\n",
    "for i in range(len(X_test)):\n",
    "    img = X_test[i]\n",
    "    resized_img = cv2.resize(img,(224,224))\n",
    "    Xtest.append(resized_img)\n",
    "    ytest.append(y_test[i])"
   ]
  },
  {
   "cell_type": "code",
   "execution_count": null,
   "id": "2d1855ad",
   "metadata": {},
   "outputs": [],
   "source": [
    "Xtrain1 = np.array(Xtrain).astype('float16',casting='same_kind')\n",
    "ytrain1 = np.array(ytrain).astype('float16',casting='same_kind')\n",
    "Xtest1 = np.array(Xtest).astype('float16',casting='same_kind')\n",
    "ytest1 = np.array(ytest).astype('float16',casting='same_kind')"
   ]
  },
  {
   "cell_type": "code",
   "execution_count": null,
   "id": "35eb0012",
   "metadata": {},
   "outputs": [],
   "source": [
    "X_train_scaled = Xtrain1 / 255\n",
    "X_test_scaled = Xtest1 / 255"
   ]
  },
  {
   "cell_type": "code",
   "execution_count": null,
   "id": "95b07069",
   "metadata": {},
   "outputs": [],
   "source": [
    "feature_extractor_model = \"https://tfhub.dev/google/tf2-preview/mobilenet_v2/feature_vector/4\"\n",
    "\n",
    "pretrained_model_without_top_layer = hub.KerasLayer(\n",
    "    feature_extractor_model, input_shape=(224, 224, 3), trainable=False)"
   ]
  },
  {
   "cell_type": "code",
   "execution_count": null,
   "id": "871e72cb",
   "metadata": {},
   "outputs": [],
   "source": [
    "num_of_class = 10\n",
    "\n",
    "model = tf.keras.Sequential([\n",
    "  pretrained_model_without_top_layer,\n",
    "  tf.keras.layers.Dense(num_of_class)\n",
    "])\n",
    "\n",
    "model.summary()"
   ]
  },
  {
   "cell_type": "code",
   "execution_count": null,
   "id": "b1ee7bb8",
   "metadata": {},
   "outputs": [],
   "source": [
    "model.compile(\n",
    "  optimizer=\"adam\",\n",
    "  loss=tf.keras.losses.SparseCategoricalCrossentropy(from_logits=True),\n",
    "  metrics=['acc'])\n",
    "\n",
    "model.fit(X_train_scaled, ytrain1, epochs=5)"
   ]
  },
  {
   "cell_type": "code",
   "execution_count": null,
   "id": "b192cc83",
   "metadata": {},
   "outputs": [],
   "source": [
    "model.evaluate(X_test_scaled,ytest1)"
   ]
  },
  {
   "cell_type": "code",
   "execution_count": null,
   "id": "01550745",
   "metadata": {},
   "outputs": [],
   "source": [
    "horse = Image.open(\"horse.jpg\").resize(IMAGE_SHAPE)\n",
    "horse"
   ]
  },
  {
   "cell_type": "code",
   "execution_count": null,
   "id": "7c481c35",
   "metadata": {},
   "outputs": [],
   "source": [
    "horse = np.array(horse)/255.0\n",
    "horse.shape\n",
    "horse[np.newaxis, ...]\n",
    "result = model.predict(horse[np.newaxis, ...])\n",
    "result.shape"
   ]
  },
  {
   "cell_type": "code",
   "execution_count": null,
   "id": "92bc44cc",
   "metadata": {},
   "outputs": [],
   "source": [
    "predicted_label_index = np.argmax(result)\n",
    "classes[predicted_label_index]"
   ]
  },
  {
   "cell_type": "code",
   "execution_count": null,
   "id": "49cc9d27",
   "metadata": {},
   "outputs": [],
   "source": []
  }
 ],
 "metadata": {
  "kernelspec": {
   "display_name": "Python 3 (ipykernel)",
   "language": "python",
   "name": "python3"
  },
  "language_info": {
   "codemirror_mode": {
    "name": "ipython",
    "version": 3
   },
   "file_extension": ".py",
   "mimetype": "text/x-python",
   "name": "python",
   "nbconvert_exporter": "python",
   "pygments_lexer": "ipython3",
   "version": "3.8.5"
  }
 },
 "nbformat": 4,
 "nbformat_minor": 5
}
